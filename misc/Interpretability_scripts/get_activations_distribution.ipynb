{
 "cells": [
  {
   "cell_type": "code",
   "execution_count": 1,
   "metadata": {},
   "outputs": [],
   "source": [
    "import numpy as np\n",
    "import tensorflow as tf\n",
    "import cv2\n",
    "import lucid.scratch.web.svelte as lucid_svelte\n",
    "import lucid.modelzoo.vision_models as models\n",
    "import lucid.optvis.render as render\n",
    "import lucid.optvis.objectives as objectives\n",
    "import os\n",
    "import time\n",
    "\n",
    "from lucid.misc.io import show, load\n",
    "from lucid.misc.io.showing import _image_url\n",
    "from lucid_load_model import CovidNetB\n",
    "from data import process_image_file\n",
    "\n",
    "covidnet = CovidNetB()"
   ]
  },
  {
   "cell_type": "code",
   "execution_count": 4,
   "metadata": {},
   "outputs": [],
   "source": [
    "def get_average_neuron_firing(layer='conv5_block3_out/add'):\n",
    "    total = 0\n",
    "    no = len(os.listdir('data/test'))\n",
    "    i = 1\n",
    "    for image_file in os.listdir('data/test'):\n",
    "        if (i%50 == 0):\n",
    "            print(str(i)+'/'+str(no))\n",
    "        i += 1\n",
    "        processed_img = process_image_file('data/test/' + image_file, 0, 480)\n",
    "\n",
    "        # Compute the activations\n",
    "        with tf.Graph().as_default() as graph, tf.Session():\n",
    "            t_input = tf.placeholder(tf.float32, [480, 480, 3])\n",
    "            T = render.import_model(covidnet, t_input, t_input)\n",
    "            acts = T(layer).eval({t_input: processed_img})[0]\n",
    "\n",
    "        acts = np.mean(acts, axis=(0,1))\n",
    "        total = acts + total\n",
    "    average = total/no\n",
    "    return average"
   ]
  },
  {
   "cell_type": "code",
   "execution_count": 5,
   "metadata": {},
   "outputs": [
    {
     "data": {
      "text/plain": [
       "\"\\naverage = get_average_neuron_firing()\\nprint(average)\\naverage_out_file = open('output/lucid/conv5/average.txt', 'w')\\nnp.savetxt(average_out_file, average)\\naverage_out_file.close()\\n\""
      ]
     },
     "execution_count": 5,
     "metadata": {},
     "output_type": "execute_result"
    }
   ],
   "source": [
    "'''\n",
    "average = get_average_neuron_firing()\n",
    "print(average)\n",
    "average_out_file = open('output/lucid/conv5/average.txt', 'w')\n",
    "np.savetxt(average_out_file, average)\n",
    "average_out_file.close()\n",
    "'''"
   ]
  },
  {
   "cell_type": "code",
   "execution_count": 6,
   "metadata": {},
   "outputs": [],
   "source": [
    "def get_all_neuron_firing(layer='conv5_block3_out/add'):\n",
    "    image_list = os.listdir('data/test')\n",
    "    all_acts = np.zeros((len(image_list), 15,15,2048))\n",
    "    for i in range(len(image_list)):\n",
    "        processed_img = process_image_file(os.path.join('data/test',image_list[i]), 0, 480)\n",
    "        if (i%50 == 0):\n",
    "            print(str(i)+'/'+str(len(image_list)))\n",
    "\n",
    "        # Compute the activations\n",
    "        with tf.Graph().as_default() as graph, tf.Session():\n",
    "            t_input = tf.placeholder(tf.float32, [480, 480, 3])\n",
    "            T = render.import_model(covidnet, t_input, t_input)\n",
    "            acts = T(layer).eval({t_input: processed_img})[0]\n",
    "\n",
    "        all_acts[i] = acts\n",
    "    return all_acts"
   ]
  },
  {
   "cell_type": "code",
   "execution_count": 7,
   "metadata": {},
   "outputs": [
    {
     "name": "stdout",
     "output_type": "stream",
     "text": [
      "0/1535\n",
      "WARNING:tensorflow:From c:\\users\\cuddlefish\\documents\\university\\thesis\\chexnet\\tensorflow\\1\\covid-net-master\\env\\lib\\site-packages\\lucid\\modelzoo\\vision_base.py:192: The name tf.get_default_graph is deprecated. Please use tf.compat.v1.get_default_graph instead.\n",
      "\n"
     ]
    },
    {
     "name": "stderr",
     "output_type": "stream",
     "text": [
      "WARNING:tensorflow:From c:\\users\\cuddlefish\\documents\\university\\thesis\\chexnet\\tensorflow\\1\\covid-net-master\\env\\lib\\site-packages\\lucid\\modelzoo\\vision_base.py:192: The name tf.get_default_graph is deprecated. Please use tf.compat.v1.get_default_graph instead.\n",
      "\n"
     ]
    },
    {
     "name": "stdout",
     "output_type": "stream",
     "text": [
      "WARNING:tensorflow:From c:\\users\\cuddlefish\\documents\\university\\thesis\\chexnet\\tensorflow\\1\\covid-net-master\\env\\lib\\site-packages\\lucid\\modelzoo\\util.py:58: The name tf.placeholder_with_default is deprecated. Please use tf.compat.v1.placeholder_with_default instead.\n",
      "\n"
     ]
    },
    {
     "name": "stderr",
     "output_type": "stream",
     "text": [
      "WARNING:tensorflow:From c:\\users\\cuddlefish\\documents\\university\\thesis\\chexnet\\tensorflow\\1\\covid-net-master\\env\\lib\\site-packages\\lucid\\modelzoo\\util.py:58: The name tf.placeholder_with_default is deprecated. Please use tf.compat.v1.placeholder_with_default instead.\n",
      "\n"
     ]
    },
    {
     "name": "stdout",
     "output_type": "stream",
     "text": [
      "WARNING:tensorflow:From c:\\users\\cuddlefish\\documents\\university\\thesis\\chexnet\\tensorflow\\1\\covid-net-master\\env\\lib\\site-packages\\lucid\\misc\\io\\reading.py:124: The name tf.gfile.Open is deprecated. Please use tf.io.gfile.GFile instead.\n",
      "\n"
     ]
    },
    {
     "name": "stderr",
     "output_type": "stream",
     "text": [
      "WARNING:tensorflow:From c:\\users\\cuddlefish\\documents\\university\\thesis\\chexnet\\tensorflow\\1\\covid-net-master\\env\\lib\\site-packages\\lucid\\misc\\io\\reading.py:124: The name tf.gfile.Open is deprecated. Please use tf.io.gfile.GFile instead.\n",
      "\n"
     ]
    },
    {
     "name": "stdout",
     "output_type": "stream",
     "text": [
      "WARNING:tensorflow:From c:\\users\\cuddlefish\\documents\\university\\thesis\\chexnet\\tensorflow\\1\\covid-net-master\\env\\lib\\site-packages\\lucid\\misc\\io\\loading.py:129: The name tf.GraphDef is deprecated. Please use tf.compat.v1.GraphDef instead.\n",
      "\n"
     ]
    },
    {
     "name": "stderr",
     "output_type": "stream",
     "text": [
      "WARNING:tensorflow:From c:\\users\\cuddlefish\\documents\\university\\thesis\\chexnet\\tensorflow\\1\\covid-net-master\\env\\lib\\site-packages\\lucid\\misc\\io\\loading.py:129: The name tf.GraphDef is deprecated. Please use tf.compat.v1.GraphDef instead.\n",
      "\n"
     ]
    },
    {
     "name": "stdout",
     "output_type": "stream",
     "text": [
      "50/1535\n",
      "100/1535\n",
      "150/1535\n",
      "200/1535\n",
      "250/1535\n",
      "300/1535\n",
      "350/1535\n",
      "400/1535\n",
      "450/1535\n",
      "500/1535\n",
      "550/1535\n",
      "600/1535\n",
      "650/1535\n",
      "700/1535\n",
      "750/1535\n",
      "800/1535\n",
      "850/1535\n",
      "900/1535\n",
      "950/1535\n",
      "1000/1535\n",
      "1050/1535\n",
      "1100/1535\n",
      "1150/1535\n",
      "1200/1535\n",
      "1250/1535\n",
      "1300/1535\n",
      "1350/1535\n",
      "1400/1535\n",
      "1450/1535\n",
      "1500/1535\n",
      "(1535, 15, 15, 2048)\n",
      "0/2048 - 0.0001616\n",
      "50/2048 - 21.2621279\n",
      "100/2048 - 21.065711200000003\n",
      "150/2048 - 21.1882009\n",
      "200/2048 - 20.557715699999996\n",
      "250/2048 - 19.8800035\n",
      "300/2048 - 19.8548495\n",
      "350/2048 - 20.36456369999999\n",
      "400/2048 - 21.6495788\n",
      "450/2048 - 21.419713799999982\n",
      "500/2048 - 21.600520899999992\n",
      "550/2048 - 40.46532930000001\n",
      "600/2048 - 21.517620700000037\n",
      "650/2048 - 22.04822539999998\n",
      "700/2048 - 22.018112799999983\n",
      "750/2048 - 21.804116399999998\n",
      "800/2048 - 27.422631699999954\n",
      "850/2048 - 23.326619199999982\n",
      "900/2048 - 22.1001215\n",
      "950/2048 - 22.92547399999995\n",
      "1000/2048 - 22.96444360000004\n",
      "1050/2048 - 132.46049620000002\n",
      "1100/2048 - 21.11096729999997\n",
      "1150/2048 - 21.62492629999997\n",
      "1200/2048 - 21.308076200000073\n",
      "1250/2048 - 21.121512999999936\n",
      "1300/2048 - 21.548839999999927\n",
      "1350/2048 - 22.204137599999967\n",
      "1400/2048 - 21.627437199999918\n",
      "1450/2048 - 22.35313510000003\n",
      "1500/2048 - 338.84389510000005\n",
      "1550/2048 - 87.64481249999994\n",
      "1600/2048 - 22.071559799999932\n",
      "1650/2048 - 22.148475199999893\n",
      "1700/2048 - 21.50031899999999\n",
      "1750/2048 - 21.959676599999966\n",
      "1800/2048 - 21.882490799999914\n",
      "1850/2048 - 22.855235300000004\n",
      "1900/2048 - 21.982729999999947\n",
      "1950/2048 - 22.007283500000085\n",
      "2000/2048 - 21.884134600000152\n",
      "2021/2048 - 9.36888910000016\n",
      "2022/2048 - 0.5825380999999652\n",
      "2023/2048 - 0.5437226000001374\n",
      "2024/2048 - 0.5158824999998615\n",
      "2025/2048 - 0.42204820000006293\n",
      "2026/2048 - 0.4526816999998573\n",
      "2027/2048 - 0.47019410000007156\n",
      "2028/2048 - 0.49317199999995864\n",
      "2029/2048 - 0.427587499999845\n",
      "2030/2048 - 0.41739159999997355\n",
      "2031/2048 - 0.43182739999997466\n",
      "2032/2048 - 0.4410974999998416\n",
      "2033/2048 - 0.42696329999989757\n",
      "2034/2048 - 0.4333675000000312\n",
      "2035/2048 - 0.40732509999998\n",
      "2036/2048 - 0.42990740000004735\n",
      "2037/2048 - 0.4507633000000624\n",
      "2038/2048 - 0.4353769000001648\n",
      "2039/2048 - 0.40632329999994\n",
      "2040/2048 - 0.4176081999999042\n",
      "2041/2048 - 60.111961000000065\n",
      "2042/2048 - 0.4511938000000555\n",
      "2043/2048 - 0.508248900000126\n",
      "2044/2048 - 0.6162316999998438\n",
      "2045/2048 - 0.5167484999999488\n",
      "2046/2048 - 0.43172370000002047\n",
      "2047/2048 - 0.43073549999985516\n",
      "(2048, 345375)\n",
      "saved\n"
     ]
    }
   ],
   "source": [
    "all_acts = get_all_neuron_firing()\n",
    "#np.savetxt('output/lucid/conv5/all_firings.txt',all_acts)\n",
    "print(np.shape(all_acts))\n",
    "\n",
    "acts = []\n",
    "tic = time.perf_counter()\n",
    "for channel in range(2048):\n",
    "    channel_activations = []\n",
    "    if ((channel%50 == 0) or (channel > 2020)):\n",
    "        toc = time.perf_counter()\n",
    "        print(str(channel) + '/2048 - ' + str(toc-tic))\n",
    "        tic = time.perf_counter()\n",
    "    for row in range(15):\n",
    "        for col in range(15):\n",
    "            for pic in range(1535):\n",
    "                channel_activations.append(-all_acts[pic, row, col, channel])\n",
    "    channel_activations.sort()\n",
    "    acts.append(channel_activations)\n",
    "print(np.shape(acts))\n",
    "\n",
    "out_file = open('output/lucid/conv5/all_firings2.txt', 'w')\n",
    "np.savetxt(out_file,acts)\n",
    "print('saved')\n",
    "out_file.close()"
   ]
  },
  {
   "cell_type": "code",
   "execution_count": 2,
   "metadata": {},
   "outputs": [
    {
     "name": "stdout",
     "output_type": "stream",
     "text": [
      "(2048, 345375)\n"
     ]
    }
   ],
   "source": [
    "acts = np.loadtxt('output/lucid/conv5/all_firings2.txt')\n",
    "print(np.shape(acts))"
   ]
  },
  {
   "cell_type": "code",
   "execution_count": 3,
   "metadata": {},
   "outputs": [
    {
     "name": "stdout",
     "output_type": "stream",
     "text": [
      "3453\n",
      "3528\n",
      "345375\n"
     ]
    },
    {
     "data": {
      "text/plain": [
       "'\\nsize = np.shape(acts)[1]\\ndist = size/100\\nsmall_acts = []\\n\\nfor channel in range(2048):\\n    channel_acts = []\\n    '"
      ]
     },
     "execution_count": 3,
     "metadata": {},
     "output_type": "execute_result"
    }
   ],
   "source": [
    "shape = np.shape(acts)\n",
    "dist = int(shape[1]/100)\n",
    "init_dist = shape[1] - 99*dist\n",
    "print(dist)\n",
    "print(init_dist)\n",
    "print(init_dist + 99*dist)\n",
    "\n",
    "\n",
    "\n",
    "'''\n",
    "size = np.shape(acts)[1]\n",
    "dist = size/100\n",
    "small_acts = []\n",
    "\n",
    "for channel in range(2048):\n",
    "    channel_acts = []\n",
    "    '''"
   ]
  },
  {
   "cell_type": "code",
   "execution_count": 13,
   "metadata": {},
   "outputs": [
    {
     "name": "stdout",
     "output_type": "stream",
     "text": [
      "(2048, 101)\n"
     ]
    }
   ],
   "source": [
    "small_acts = []\n",
    "for channel in range(2048):\n",
    "    channel_acts = []\n",
    "    channel_acts.append(acts[channel][0])\n",
    "    current_dist = init_dist-1\n",
    "    channel_acts.append(acts[channel][current_dist])\n",
    "    for i in range(99):\n",
    "        current_dist += dist\n",
    "        channel_acts.append(acts[channel][current_dist])\n",
    "    small_acts.append(channel_acts)\n",
    "print(np.shape(small_acts))"
   ]
  },
  {
   "cell_type": "code",
   "execution_count": 14,
   "metadata": {},
   "outputs": [
    {
     "name": "stdout",
     "output_type": "stream",
     "text": [
      "saved\n"
     ]
    }
   ],
   "source": [
    "out_file = open('output/lucid/conv5/firings_distribution.txt', 'w')\n",
    "np.savetxt(out_file,small_acts)\n",
    "print('saved')\n",
    "out_file.close()"
   ]
  },
  {
   "cell_type": "code",
   "execution_count": null,
   "metadata": {},
   "outputs": [],
   "source": []
  }
 ],
 "metadata": {
  "kernelspec": {
   "display_name": "Python 3",
   "language": "python",
   "name": "python3"
  },
  "language_info": {
   "codemirror_mode": {
    "name": "ipython",
    "version": 3
   },
   "file_extension": ".py",
   "mimetype": "text/x-python",
   "name": "python",
   "nbconvert_exporter": "python",
   "pygments_lexer": "ipython3",
   "version": "3.6.8"
  }
 },
 "nbformat": 4,
 "nbformat_minor": 4
}
